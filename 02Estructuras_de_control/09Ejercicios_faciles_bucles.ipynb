{
 "cells": [
  {
   "cell_type": "markdown",
   "metadata": {},
   "source": [
    "# `while`"
   ]
  },
  {
   "cell_type": "markdown",
   "metadata": {},
   "source": [
    "## Ejercicio 1\n",
    "\n",
    "Escribe un programa que pida al usuario que introduzca un número entre 1 y 10. El programa debe seguir pidiendo un número hasta que el usuario introduzca un valor válido en ese rango."
   ]
  },
  {
   "cell_type": "markdown",
   "metadata": {},
   "source": [
    "## Ejercicio 2\n",
    "\n",
    "Escribe un programa que pida números al usuario hasta que este introduzca un 0. Para cada número debemos indicar si es positivo o negativo."
   ]
  },
  {
   "cell_type": "markdown",
   "metadata": {},
   "source": [
    "## Ejercicio 3\n",
    "\n",
    "Escribe un programa que pida números al usuario y que cuente cuántos números son pares y cuántos impares. El programa dejará de pedir números cuando el usuario introduzca un 0."
   ]
  },
  {
   "cell_type": "markdown",
   "metadata": {},
   "source": [
    "## Ejercicio 4\n",
    "\n",
    "Escribe un programa en el que almacenes en una variable un número entre 1 y 50. El usuario tiene que intentar adivinar el número, y el programa debe decir si el número introducido es mayor o menor que el número objetivo. El bucle debe continuar hasta que el usuario adivine el número correcto."
   ]
  },
  {
   "cell_type": "markdown",
   "metadata": {},
   "source": [
    "# `for`"
   ]
  },
  {
   "cell_type": "markdown",
   "metadata": {},
   "source": [
    "## Ejercicio 5\n",
    "\n",
    "Escribe un programa que pida al usuario un carácter y un número entero. El programa debe imprimir por pantalla el carácter tantas veces como indique el número. No utilices el operador `*` de las cadenas."
   ]
  },
  {
   "cell_type": "markdown",
   "metadata": {},
   "source": [
    "## Ejercicio 6\n",
    "\n",
    "Escribe un programa que imprima los cuadrados de los números del 1 al 10 utilizando un bucle for."
   ]
  },
  {
   "cell_type": "markdown",
   "metadata": {},
   "source": [
    "## Ejercicio 7\n",
    "\n",
    "Escribe un programa que pida al usuario una cadena y una letra y cuente cuántas veces aparece la letra en la cadena."
   ]
  },
  {
   "cell_type": "markdown",
   "metadata": {},
   "source": [
    "## Ejercicio 8\n",
    "\n",
    "Escribe un programa que imprima la suma acumulativa de los números del 1 al 10. La suma acumulativa es la suma de todos los números hasta el número actual. Por ejemplo, la salida sería: 1, 3, 6, 10, 15, ..., 55.\n",
    "\n",
    "Repítelo para la suma acumulativa hasta un número introducido por el usuario."
   ]
  }
 ],
 "metadata": {
  "language_info": {
   "name": "python"
  }
 },
 "nbformat": 4,
 "nbformat_minor": 2
}
