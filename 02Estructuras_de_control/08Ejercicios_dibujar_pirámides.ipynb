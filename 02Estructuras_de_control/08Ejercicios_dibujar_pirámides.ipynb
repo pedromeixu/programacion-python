{
 "cells": [
  {
   "cell_type": "markdown",
   "metadata": {},
   "source": [
    "**¡OJO! Muchos de estos ejercicios son de nivel avanzado**\n",
    "\n",
    "En estos ejercicios se comprobará que los datos introducidos por el usuario sean números positivos mayores que 0. En caso de que no se cumplan estas condiciones, se solicitará de nuevo el número tantas veces como sea necesario hasta que se cumplan las condiciones establecidas.\n",
    "\n",
    "Los más sencillos son el 1, 2, 7 y 10\n",
    "\n",
    "# Ejercicio 1\n",
    "\n",
    "Crea un programa en Python que dibuje un conjunto de asteriscos en varias líneas tal y como se ve a continuación. El número de asteriscos por fila y el número de filas será dado por el usuario.\n",
    "```python\n",
    "**********\n",
    "**********\n",
    "**********\n",
    "**********\n",
    "```\n"
   ]
  },
  {
   "cell_type": "markdown",
   "metadata": {},
   "source": [
    "\n",
    "# Ejercicio 2\n",
    "\n",
    "Crea un programa en Python que dibuje una escalera de asteriscos tal y como se ve a continuación. El número de filas será dado por el usuario.\n",
    "```python\n",
    "*\n",
    "**\n",
    "***\n",
    "****\n",
    "*****\n",
    "```\n"
   ]
  },
  {
   "cell_type": "markdown",
   "metadata": {},
   "source": [
    "\n",
    "# Ejercicio 3\n",
    "\n",
    "Crea un programa en Python que dibuje una escalera de asteriscos tal y como se ve a continuación. El número de filas será dado por el usuario.\n",
    "```python\n",
    "*\n",
    "***\n",
    "*****\n",
    "*******\n",
    "*********\n",
    "```\n"
   ]
  },
  {
   "cell_type": "markdown",
   "metadata": {},
   "source": [
    "\n",
    "# Ejercicio 4\n",
    "\n",
    "Crea un programa Python que dibuje una pirámide sólida de asteriscos. La altura de la pirámide se pide por teclado. Un ejemplo de ejecución para una pirámide de altura 5 sería:\n",
    "```python\n",
    "        *\n",
    "      ***\n",
    "    *****\n",
    "  *******\n",
    "*********\n",
    "```\n"
   ]
  },
  {
   "cell_type": "markdown",
   "metadata": {},
   "source": [
    "\n",
    "# Ejercicio 5\n",
    "\n",
    "Crea un programa en Python que dibuje una escalera de asteriscos tal y como se ve a continuación. El número de filas será dado por el usuario.\n",
    "```python\n",
    "    *\n",
    "   ***\n",
    "  *****\n",
    " *******\n",
    "*********\n",
    "```"
   ]
  },
  {
   "cell_type": "markdown",
   "metadata": {},
   "source": [
    "\n",
    "# Ejercicio 6\n",
    "\n",
    "Crea un programa en Python que dibuje una pirámide de asteriscos invertida tal y como se ve a continuación. El número máximo de asteriscos, de la fila más larga será dado por el usuario, en el ejemplo es 5.\n",
    "```python\n",
    "* \n",
    "* * \n",
    "* * * \n",
    "* * * * \n",
    "* * * * * \n",
    "* * * * \n",
    "* * * \n",
    "* * \n",
    "*\n",
    "```\n"
   ]
  },
  {
   "cell_type": "markdown",
   "metadata": {},
   "source": [
    "    \n",
    "# Ejercicio 7\n",
    "\n",
    "Crea un programa en Python que dibuje una escalera de números tal y como se ve a continuación. El número de filas será dado por el usuario.\n",
    "```python\n",
    "1\n",
    "222\n",
    "33333\n",
    "4444444\n",
    "555555555\n",
    "```\n"
   ]
  },
  {
   "cell_type": "markdown",
   "metadata": {},
   "source": [
    "\n",
    "# Ejercicio 8\n",
    "\n",
    "Crea un programa en Python que dibuje una escalera de números tal y como se ve a continuación. El número de filas será dado por el usuario.\n",
    "```python\n",
    "    1\n",
    "   212\n",
    "  32123\n",
    " 4321234\n",
    "543212345\n",
    "```\n"
   ]
  },
  {
   "cell_type": "markdown",
   "metadata": {},
   "source": [
    "    \n",
    "# Ejercicio 9\n",
    "\n",
    "Crea un programa en Python que dibuje una escalera de números tal y como se ve a continuación. El número de filas será dado por el usuario.\n",
    "```python\n",
    "1\n",
    "3 1\n",
    "5 3 1\n",
    "7 5 3 1\n",
    "9 7 5 3 1\n",
    "```\n"
   ]
  },
  {
   "cell_type": "markdown",
   "metadata": {},
   "source": [
    "\n",
    "# Ejercicio 10\n",
    "\n",
    "Crea un programa en Python que dibuje una escalera de números invertida tal y como se ve a continuación. El número de filas será dado por el usuario.\n",
    "```python\n",
    "5 4 3 2 1 \n",
    "4 3 2 1 \n",
    "3 2 1 \n",
    "2 1 \n",
    "1\n",
    "```"
   ]
  }
 ],
 "metadata": {
  "kernelspec": {
   "display_name": "Python 3",
   "language": "python",
   "name": "python3"
  },
  "language_info": {
   "codemirror_mode": {
    "name": "ipython",
    "version": 3
   },
   "file_extension": ".py",
   "mimetype": "text/x-python",
   "name": "python",
   "nbconvert_exporter": "python",
   "pygments_lexer": "ipython3",
   "version": "3.10.12"
  },
  "orig_nbformat": 4
 },
 "nbformat": 4,
 "nbformat_minor": 2
}
