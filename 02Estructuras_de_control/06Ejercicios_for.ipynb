{
 "cells": [
  {
   "cell_type": "markdown",
   "metadata": {},
   "source": [
    "# Ejercicios `for`"
   ]
  },
  {
   "cell_type": "markdown",
   "metadata": {},
   "source": [
    "## Ejercicio 1\n",
    "\n",
    "Crea un programa en Python que muestre los números del 100 al 1.\n",
    "\n",
    "Salida: Primero muestra cada número en una línea y a continuación muéstralos en la misma línea separados por un espacio en blanco.\n"
   ]
  },
  {
   "cell_type": "markdown",
   "metadata": {},
   "source": [
    "## Ejercicio 2\n",
    "\n",
    "Crea un programa en Python que muestre los números del 1 a un número mayor introducido por teclado."
   ]
  },
  {
   "cell_type": "markdown",
   "metadata": {},
   "source": [
    "\n",
    "## Ejercicio 3\n",
    "\n",
    "Crea un programa en Python que muestre los números desde un número introducido por teclado hasta el 1, descendiendo de 1 en 1.\n"
   ]
  },
  {
   "cell_type": "markdown",
   "metadata": {},
   "source": [
    "## Ejercicio 4\n",
    "\n",
    "Crea un programa en Python que muestre los números desde un número mayor hasta otro menor introducidos por teclado. Comprueba que el primer número es mayor que el segundo, y si no lo es, muestra un mensaje y finaliza el programa."
   ]
  },
  {
   "cell_type": "markdown",
   "metadata": {},
   "source": [
    "## Ejercicio 5\n",
    "\n",
    "Crea un programa en Python que muestre el producto de los 10 primeros números impares.\n",
    "\n",
    "El resultado es **654729075**."
   ]
  },
  {
   "cell_type": "markdown",
   "metadata": {},
   "source": [
    "## Ejercicio 6\n",
    "\n",
    "En algunos países anglosajones se emplea la palabra Mississippi para contar segundos, por ejemplo, para jugar al escondite. Crea un programa que cuente hasta 5 en segundos y, cuando acabe, muestre el mensaje “Voy!”. El resultado será el siguiente:\n",
    "\n",
    "```python\n",
    "1 Mississippi\n",
    "2 Mississippi\n",
    "3 Mississippi\n",
    "4 Mississippi\n",
    "5 Mississippi\n",
    "Voy!\n",
    "```\n",
    "\n",
    "Usa la función time.sleep() para esperar un segundo. Busca información de su uso.\n"
   ]
  },
  {
   "cell_type": "markdown",
   "metadata": {},
   "source": [
    "## Ejercicio 7: Devorador de vocales\n",
    "\n",
    "Crea un programa que pida al usuario una frase y le muestre esa frase en mayúsculas y sin las vocales."
   ]
  },
  {
   "cell_type": "code",
   "execution_count": null,
   "metadata": {},
   "outputs": [],
   "source": []
  },
  {
   "cell_type": "markdown",
   "metadata": {},
   "source": [
    "## Ejercicio 8: Contador de vocales\n",
    "\n",
    "Crea un programa que pida al usuario una frase y le diga cuántas vocales tiene esa frase."
   ]
  },
  {
   "cell_type": "markdown",
   "metadata": {},
   "source": [
    "## Ejercicio 9\n",
    "\n",
    "El alumnado del IES de Teis tiene un correo electrónico en el dominio `iesteis.es`. Este correo consiste en el nombre de usuario con el que acceden en las aulas seguido de `@iesteis.es`. Por ejemplo `a23mariarm@iesteis.es`. \n",
    "\n",
    "Escribe un programa en Python que pida al usuario un correo electrónico y devuelva el nombre de usuario. En este ejemplo: `a23mariarm`."
   ]
  },
  {
   "cell_type": "markdown",
   "metadata": {},
   "source": [
    "## Ejercicio 10: ¿Tiene vocales?\n",
    "\n",
    "Crea un programa que pida al usuario una frase y le diga si esa frase tiene o no vocales."
   ]
  }
 ],
 "metadata": {
  "kernelspec": {
   "display_name": "Python 3",
   "language": "python",
   "name": "python3"
  },
  "language_info": {
   "codemirror_mode": {
    "name": "ipython",
    "version": 3
   },
   "file_extension": ".py",
   "mimetype": "text/x-python",
   "name": "python",
   "nbconvert_exporter": "python",
   "pygments_lexer": "ipython3",
   "version": "3.11.5"
  },
  "orig_nbformat": 4
 },
 "nbformat": 4,
 "nbformat_minor": 2
}
