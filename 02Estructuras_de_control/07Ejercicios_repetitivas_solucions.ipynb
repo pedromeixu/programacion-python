{
 "cells": [
  {
   "cell_type": "markdown",
   "metadata": {},
   "source": [
    "# Ejercicios `for` o `while`\n",
    "\n",
    "**Hoja de ruta:**"
   ]
  },
  {
   "cell_type": "markdown",
   "metadata": {},
   "source": [
    "\n",
    "## Ejercicio 1\n",
    "\n",
    "Crea un programa en Python que escriba todos los números del 100 al 0 de 7 en 7."
   ]
  },
  {
   "cell_type": "code",
   "execution_count": null,
   "metadata": {},
   "outputs": [],
   "source": [
    "for i in range(100, -1, -7):\n",
    "    print(i, end=\" \")"
   ]
  },
  {
   "cell_type": "markdown",
   "metadata": {},
   "source": [
    "\n",
    "## Ejercicio 2\n",
    "\n",
    "Crea un programa en Python que pida las edades y alturas de 5 alumnos, y muestre la edad y la estatura media, la cantidad de alumnos mayores de edad, y la cantidad de alumnos que miden más de 1.75.\n",
    "\n",
    "Define una única variable para la edad y otra para la altura (no puedes definir 5 de cada.)"
   ]
  },
  {
   "cell_type": "code",
   "execution_count": null,
   "metadata": {},
   "outputs": [],
   "source": [
    "NUM_ALUMNXS = 3\n",
    "\n",
    "suma_edades = 0\n",
    "media_altura = 0\n",
    "mayores_edad = 0\n",
    "altos = 0\n",
    "\n",
    "for i in range(NUM_ALUMNXS):\n",
    "    edad = int(input(\"Introduce la edad del alumnx: \"))\n",
    "    altura = float(input(\"Introduce la altura del alumnx: \"))\n",
    "\n",
    "    suma_edades += edad\n",
    "    media_altura += altura\n",
    "\n",
    "    if edad >= 18:\n",
    "        mayores_edad += 1\n",
    "\n",
    "    if altura > 1.75:\n",
    "        altos += 1\n",
    "\n",
    "\n",
    "media_edades = suma_edades / NUM_ALUMNXS\n",
    "\n",
    "print(\"La media de edad es\", round(media_edades,1))\n",
    "print(\"La media de altura es\", round(media_altura,2), \"m\")\n",
    "print(mayores_edad, \"alumnxs son mayores de edad\")\n",
    "print(altos, \"alumnxs miden más de 1.75m\")"
   ]
  },
  {
   "cell_type": "markdown",
   "metadata": {},
   "source": [
    "Modifica para que o programa me avise se hai algún alumno que mida máis de 1,90m."
   ]
  },
  {
   "cell_type": "code",
   "execution_count": null,
   "metadata": {},
   "outputs": [],
   "source": [
    "NUM_ALUMNXS = 3\n",
    "\n",
    "suma_edades = 0\n",
    "media_altura = 0\n",
    "mayores_edad = 0\n",
    "altos = 0\n",
    "\n",
    "hay_muy_altos = False\n",
    "\n",
    "for i in range(NUM_ALUMNXS):\n",
    "    edad = int(input(\"Introduce la edad del alumnx: \"))\n",
    "    altura = float(input(\"Introduce la altura del alumnx: \"))\n",
    "\n",
    "    suma_edades += edad\n",
    "    media_altura += altura\n",
    "\n",
    "    if edad >= 18:\n",
    "        mayores_edad += 1\n",
    "\n",
    "    if altura > 1.75:\n",
    "        altos += 1\n",
    "\n",
    "    if altura > 1.90:\n",
    "        hay_muy_altos = True\n",
    "\n",
    "\n",
    "media_edades = suma_edades / NUM_ALUMNXS\n",
    "\n",
    "print(\"La media de edad es\", round(media_edades,1))\n",
    "print(\"La media de altura es\", round(media_altura,2), \"m\")\n",
    "print(mayores_edad, \"alumnxs son mayores de edad\")\n",
    "print(altos, \"alumnxs miden más de 1.75m\")\n",
    "\n",
    "if hay_muy_altos: #hay_muy_altos == True\n",
    "    print(\"Hay algún alumno que mide más de 1.90\")"
   ]
  },
  {
   "cell_type": "markdown",
   "metadata": {},
   "source": [
    "## Ejercicio 3\n",
    "\n",
    "Crea un programa en Python que permita pedir la altura de varios niños y muestre su promedio. Después de cada altura, pregunta al usuario si quiere continuar introduciendo más.\n"
   ]
  },
  {
   "cell_type": "code",
   "execution_count": null,
   "metadata": {},
   "outputs": [],
   "source": [
    "suma_altura = 0\n",
    "contador = 0\n",
    "respuesta = \"s\"\n",
    "\n",
    "while respuesta == \"s\":\n",
    "    altura = float(input(\"Introduce la altura: \"))\n",
    "    suma_altura += altura\n",
    "    contador += 1\n",
    "    respuesta = input(\"¿Quieres continuar? s/n\")\n",
    "\n",
    "media_altura = suma_altura / contador\n",
    "print(\"La media de altura es \", round(media_altura, 2), \"m\")"
   ]
  },
  {
   "cell_type": "markdown",
   "metadata": {},
   "source": [
    "## Ejercicio 4\n",
    "\n",
    "Crea un programa en Python que pida un número (que debe estar entre 0 y 10) y muestre la tabla de multiplicar de dicho número."
   ]
  },
  {
   "cell_type": "code",
   "execution_count": null,
   "metadata": {},
   "outputs": [],
   "source": [
    "num = int(input(\"Introduce un número entre 0 y 10: \"))\n",
    "\n",
    "for i in range(0, 11):\n",
    "    print(num, \"x\", i, \"=\", num * i)"
   ]
  },
  {
   "cell_type": "code",
   "execution_count": null,
   "metadata": {},
   "outputs": [],
   "source": [
    "num = int(input(\"Introduce un número entre 0 y 10: \"))\n",
    "\n",
    "if num < 0 or num > 10:\n",
    "    print(\"Número erróneo\")\n",
    "else:\n",
    "    for i in range(0, 11):\n",
    "        print(num, \"x\", i, \"=\", num * i)"
   ]
  },
  {
   "cell_type": "code",
   "execution_count": null,
   "metadata": {},
   "outputs": [],
   "source": [
    "num = int(input(\"Introduce un número entre 0 y 10: \"))\n",
    "\n",
    "while num < 0 or num > 10:\n",
    "    num = int(input(\"Número erróneo, escoge un número entre 0 y 10\"))\n",
    "\n",
    "for i in range(0, 11):\n",
    "    print(num, \"x\", i, \"=\", num * i)"
   ]
  },
  {
   "attachments": {
    "piramide.png": {
     "image/png": "[encoded data removed]"
    }
   },
   "cell_type": "markdown",
   "metadata": {},
   "source": [
    "## Ejercicio 5\n",
    "\n",
    "Escucha esta historia: Un niño y su padre, un programador de computadoras, juegan con bloques de madera. Están construyendo una pirámide.\n",
    "\n",
    "Su pirámide es un poco rara, ya que en realidad es una pared en forma de pirámide, es plana. La pirámide se apila de acuerdo con un principio simple: cada capa inferior contiene un bloque más que la capa superior.\n",
    "\n",
    "La figura ilustra la regla utilizada por los constructores:\n",
    "\n",
    "![piramide.png](attachment:piramide.png)\n",
    "\n",
    "Tu tarea es escribir un programa que lea la cantidad de bloques que tienen los constructores, y generar la altura de la pirámide que se puede construir utilizando estos bloques.\n",
    "\n",
    "Nota: La altura se mide por el número de capas completas: si los constructores no tienen la cantidad suficiente de bloques y no pueden completar la siguiente capa, terminan su trabajo inmediatamente.\n",
    "\n",
    "Datos de prueba:\n",
    "\n",
    "|Número de bloques|Altura de la pirámide|\n",
    "|-|-|\n",
    "|6|3|\n",
    "|20|5|\n",
    "|1000|44|\n",
    "|2|1|"
   ]
  },
  {
   "cell_type": "code",
   "execution_count": null,
   "metadata": {},
   "outputs": [],
   "source": [
    "bloques = int(input(\"¿Cuántos bloques vas a usar? \"))\n",
    "bloques_fila = 1\n",
    "altura = 0\n",
    "\n",
    "while bloques >= bloques_fila:\n",
    "    altura += 1 # Puedo poner una fila más\n",
    "    bloques -= bloques_fila # Bloques que me quedan\n",
    "    print(\"*\" * bloques_fila)\n",
    "    bloques_fila += 1\n",
    "\n",
    "print(altura)\n"
   ]
  },
  {
   "cell_type": "markdown",
   "metadata": {},
   "source": [
    "## Ejercicio 6\n",
    "\n",
    "Crea un programa en Python que pida un número y calcule su factorial.\n",
    "\n",
    "El factorial de `n` es el producto de todos los números enteros positivos desde `n` hasta `1` Por ejemplo, el factorial de `10` es: \n",
    "$$\n",
    "10! = 10*9*8*7*6*5*4*3*2*1\n",
    "$$\n"
   ]
  },
  {
   "cell_type": "code",
   "execution_count": null,
   "metadata": {},
   "outputs": [],
   "source": [
    "numero = int(input(\"Introduce un número: \"))\n",
    "factorial = 1\n",
    "\n",
    "for i in range(2, numero + 1):\n",
    "    factorial *= i\n",
    "\n",
    "print(factorial)"
   ]
  },
  {
   "cell_type": "markdown",
   "metadata": {},
   "source": [
    "## Ejercicio 7\n",
    "\n",
    "Crea un programa en Python que pida 6 notas y que escriba la cantidad de alumnos aprobados, condicionados (nota entre 4 y 5) y suspensos.\n"
   ]
  },
  {
   "cell_type": "code",
   "execution_count": null,
   "metadata": {},
   "outputs": [],
   "source": [
    "aprobados = 0\n",
    "condicionados = 0\n",
    "suspensos = 0\n",
    "\n",
    "for i in range(6):\n",
    "    nota = float(input(\"Introduce la nota del alumno: \"))\n",
    "    if nota >= 5:\n",
    "        aprobados += 1\n",
    "    elif nota >= 4:\n",
    "        condicionados += 1\n",
    "    else:\n",
    "        suspensos += 1\n",
    "\n",
    "print(\"Cantidad de alumnos aprobados:\", aprobados)\n",
    "print(\"Cantidad de alumnos condicionados:\", condicionados)\n",
    "print(\"Cantidad de alumnos suspensos:\", suspensos)"
   ]
  },
  {
   "cell_type": "markdown",
   "metadata": {},
   "source": [
    "\n",
    "## Ejercicio 8\n",
    "\n",
    "Crea un programa en Python que pida 10 números y muestre al final si se ha introducido algún negativo.\n"
   ]
  },
  {
   "cell_type": "code",
   "execution_count": null,
   "metadata": {},
   "outputs": [],
   "source": [
    "hai_negativos = False\n",
    "\n",
    "for i in range(10):\n",
    "    numero = int(input(\"Escribe un número: \"))\n",
    "    if numero < 0:\n",
    "        hai_negativos = True\n",
    "        break\n",
    "\n",
    "#if hai_negativos: # if hai_negativos == True\n",
    "#    print(\"Hay negativos\")\n",
    "#else:\n",
    "#    print(\"No hay negativos\")\n",
    "\n",
    "print(\"Hay negativos\" if hai_negativos else \"No hay negativos\")"
   ]
  },
  {
   "cell_type": "markdown",
   "metadata": {},
   "source": [
    "\n",
    "## Ejercicio 9\n",
    "\n",
    "Crea un programa en Python que reciba un número e indique si es o no primo. (Un número primo es aquel que solamente es divisible entre 1 y sí mismo). Un número es divisible entre otro si el resto de la división es 0.\n"
   ]
  },
  {
   "cell_type": "code",
   "execution_count": 19,
   "metadata": {},
   "outputs": [
    {
     "name": "stdout",
     "output_type": "stream",
     "text": [
      "No es primo\n"
     ]
    }
   ],
   "source": [
    "numero = int(input(\"Escribe un número para saber si es primo: \"))\n",
    "es_primo = True\n",
    "\n",
    "for i in range(2, numero):\n",
    "    if numero % i == 0: #É divisible\n",
    "        es_primo = False\n",
    "        break\n",
    "\n",
    "print(\"Es primo\" if es_primo else \"No es primo\")"
   ]
  },
  {
   "cell_type": "markdown",
   "metadata": {},
   "source": [
    "# Ejercicios de bucles anidados"
   ]
  },
  {
   "cell_type": "markdown",
   "metadata": {},
   "source": [
    "\n",
    "## Ejercicio 10\n",
    "\n",
    "Crea un programa en Python que muestre las tablas de multiplicar de los números 1 al 10.\n"
   ]
  },
  {
   "cell_type": "code",
   "execution_count": 1,
   "metadata": {},
   "outputs": [
    {
     "name": "stdout",
     "output_type": "stream",
     "text": [
      "1 x 0 = 0\n",
      "1 x 1 = 1\n",
      "1 x 2 = 2\n",
      "1 x 3 = 3\n",
      "1 x 4 = 4\n",
      "1 x 5 = 5\n",
      "1 x 6 = 6\n",
      "1 x 7 = 7\n",
      "1 x 8 = 8\n",
      "1 x 9 = 9\n",
      "1 x 10 = 10\n",
      "2 x 0 = 0\n",
      "2 x 1 = 2\n",
      "2 x 2 = 4\n",
      "2 x 3 = 6\n",
      "2 x 4 = 8\n",
      "2 x 5 = 10\n",
      "2 x 6 = 12\n",
      "2 x 7 = 14\n",
      "2 x 8 = 16\n",
      "2 x 9 = 18\n",
      "2 x 10 = 20\n",
      "3 x 0 = 0\n",
      "3 x 1 = 3\n",
      "3 x 2 = 6\n",
      "3 x 3 = 9\n",
      "3 x 4 = 12\n",
      "3 x 5 = 15\n",
      "3 x 6 = 18\n",
      "3 x 7 = 21\n",
      "3 x 8 = 24\n",
      "3 x 9 = 27\n",
      "3 x 10 = 30\n",
      "4 x 0 = 0\n",
      "4 x 1 = 4\n",
      "4 x 2 = 8\n",
      "4 x 3 = 12\n",
      "4 x 4 = 16\n",
      "4 x 5 = 20\n",
      "4 x 6 = 24\n",
      "4 x 7 = 28\n",
      "4 x 8 = 32\n",
      "4 x 9 = 36\n",
      "4 x 10 = 40\n",
      "5 x 0 = 0\n",
      "5 x 1 = 5\n",
      "5 x 2 = 10\n",
      "5 x 3 = 15\n",
      "5 x 4 = 20\n",
      "5 x 5 = 25\n",
      "5 x 6 = 30\n",
      "5 x 7 = 35\n",
      "5 x 8 = 40\n",
      "5 x 9 = 45\n",
      "5 x 10 = 50\n",
      "6 x 0 = 0\n",
      "6 x 1 = 6\n",
      "6 x 2 = 12\n",
      "6 x 3 = 18\n",
      "6 x 4 = 24\n",
      "6 x 5 = 30\n",
      "6 x 6 = 36\n",
      "6 x 7 = 42\n",
      "6 x 8 = 48\n",
      "6 x 9 = 54\n",
      "6 x 10 = 60\n",
      "7 x 0 = 0\n",
      "7 x 1 = 7\n",
      "7 x 2 = 14\n",
      "7 x 3 = 21\n",
      "7 x 4 = 28\n",
      "7 x 5 = 35\n",
      "7 x 6 = 42\n",
      "7 x 7 = 49\n",
      "7 x 8 = 56\n",
      "7 x 9 = 63\n",
      "7 x 10 = 70\n",
      "8 x 0 = 0\n",
      "8 x 1 = 8\n",
      "8 x 2 = 16\n",
      "8 x 3 = 24\n",
      "8 x 4 = 32\n",
      "8 x 5 = 40\n",
      "8 x 6 = 48\n",
      "8 x 7 = 56\n",
      "8 x 8 = 64\n",
      "8 x 9 = 72\n",
      "8 x 10 = 80\n",
      "9 x 0 = 0\n",
      "9 x 1 = 9\n",
      "9 x 2 = 18\n",
      "9 x 3 = 27\n",
      "9 x 4 = 36\n",
      "9 x 5 = 45\n",
      "9 x 6 = 54\n",
      "9 x 7 = 63\n",
      "9 x 8 = 72\n",
      "9 x 9 = 81\n",
      "9 x 10 = 90\n",
      "10 x 0 = 0\n",
      "10 x 1 = 10\n",
      "10 x 2 = 20\n",
      "10 x 3 = 30\n",
      "10 x 4 = 40\n",
      "10 x 5 = 50\n",
      "10 x 6 = 60\n",
      "10 x 7 = 70\n",
      "10 x 8 = 80\n",
      "10 x 9 = 90\n",
      "10 x 10 = 100\n"
     ]
    }
   ],
   "source": [
    "for num in range(1, 11):\n",
    "    for i in range(0, 11):\n",
    "        print(num, \"x\", i, \"=\", num * i)"
   ]
  },
  {
   "cell_type": "markdown",
   "metadata": {},
   "source": [
    "\n",
    "## Ejercicio 11\n",
    "\n",
    "Crea un programa en Python que muestre cuantos números primos hay ente 1 y un número introducido por teclado. \n"
   ]
  },
  {
   "cell_type": "code",
   "execution_count": 4,
   "metadata": {},
   "outputs": [
    {
     "name": "stdout",
     "output_type": "stream",
     "text": [
      "1 es primo\n",
      "2 es primo\n",
      "3 es primo\n",
      "4 no es primo\n",
      "5 es primo\n",
      "6 no es primo\n",
      "7 es primo\n",
      "8 no es primo\n",
      "9 no es primo\n",
      "10 no es primo\n"
     ]
    }
   ],
   "source": [
    "numero_max = int(input(\"Escribe un número y te diré cuántos primos menores que él existen: \"))\n",
    "\n",
    "for numero in range(1, numero_max + 1):\n",
    "    es_primo = True\n",
    "    for i in range(2, numero):\n",
    "        if numero % i == 0: #É divisible\n",
    "            es_primo = False\n",
    "            break\n",
    "    print(numero, \"es primo\" if es_primo else \"no es primo\")\n",
    "\n"
   ]
  },
  {
   "cell_type": "code",
   "execution_count": 5,
   "metadata": {},
   "outputs": [
    {
     "name": "stdout",
     "output_type": "stream",
     "text": [
      "3\n",
      "5\n",
      "5\n",
      "5\n",
      "7\n",
      "7\n",
      "7\n",
      "7\n",
      "7\n",
      "9\n"
     ]
    }
   ],
   "source": [
    "numero_max = int(input(\"Escribe un número y te diré cuántos primos menores que él existen: \"))\n",
    "\n",
    "for numero in range(1, numero_max + 1):\n",
    "    es_primo = True\n",
    "    for i in range(2, numero):\n",
    "        if numero % i == 0: #É divisible\n",
    "            es_primo = False\n",
    "            break\n",
    "        if es_primo:\n",
    "                print(numero)"
   ]
  },
  {
   "cell_type": "code",
   "execution_count": null,
   "metadata": {},
   "outputs": [],
   "source": [
    "numero_max = int(input(\"Escribe un número y te diré cuántos primos menores que él existen: \"))\n",
    "contador = 0\n",
    "\n",
    "for numero in range(1, numero_max + 1):\n",
    "    es_primo = True\n",
    "    for i in range(2, numero):\n",
    "        if numero % i == 0: #É divisible\n",
    "            es_primo = False\n",
    "            break\n",
    "    if es_primo:\n",
    "            contador += 1\n",
    "\n",
    "print(\"El número de primos es\", contador)"
   ]
  }
 ],
 "metadata": {
  "kernelspec": {
   "display_name": "Python 3",
   "language": "python",
   "name": "python3"
  },
  "language_info": {
   "codemirror_mode": {
    "name": "ipython",
    "version": 3
   },
   "file_extension": ".py",
   "mimetype": "text/x-python",
   "name": "python",
   "nbconvert_exporter": "python",
   "pygments_lexer": "ipython3",
   "version": "3.12.3"
  },
  "orig_nbformat": 4
 },
 "nbformat": 4,
 "nbformat_minor": 2
}
