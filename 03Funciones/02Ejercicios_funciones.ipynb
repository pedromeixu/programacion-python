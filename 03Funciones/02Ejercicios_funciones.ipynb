{
 "cells": [
  {
   "cell_type": "markdown",
   "metadata": {},
   "source": [
    "## Ejercicio 1\n",
    "\n",
    "Crea una función que calcule y devuelva el área de un círculo."
   ]
  },
  {
   "cell_type": "markdown",
   "metadata": {},
   "source": [
    "## Ejercicio 2\n",
    "\n",
    "Crea una función que reciba un número entero y muestre por pantalla un cuadrado de asteriscos con tantos asteriscos como se le haya indicado. Por ejemplo, si se le pasa el valor 3, muestra:\n",
    "```python\n",
    "***\n",
    "***\n",
    "***\n",
    "```"
   ]
  },
  {
   "cell_type": "markdown",
   "metadata": {},
   "source": [
    "## Ejercicio 3\n",
    "\n",
    "Crea una función a la que se le pase la edad de un alumno y devuelva si es o no mayor de edad (como un valor booleano)."
   ]
  },
  {
   "cell_type": "markdown",
   "metadata": {},
   "source": [
    "## Ejercicio 4\n",
    "\n",
    "Crea una función que no reciba parámetros y muestre por pantalla el siguiente menú:\n",
    "\n",
    "```\n",
    "    1. Saludar\n",
    "    2. Despedir\n",
    "    3. Salir\n",
    "```\n",
    "\n",
    "Debe devolver el valor escogido por el usuario.\n",
    "\n",
    "El programa principal debe llamar a la función y ejecutar la opción que haya escogido el usuario.\n"
   ]
  },
  {
   "cell_type": "markdown",
   "metadata": {},
   "source": [
    "# Ejercicio 5\n",
    "\n",
    "Crea una función en Python que calcule e imprima el volumen y el área del cono.\n",
    "\n",
    "Modifícala para que sean dos funciones, una que devuelva el volumen y otra el área del cono.\n",
    "\n",
    "**AVANZADO** Modifícala para que sea una función que devuelve dos valores."
   ]
  },
  {
   "cell_type": "code",
   "execution_count": 3,
   "metadata": {},
   "outputs": [
    {
     "name": "stdout",
     "output_type": "stream",
     "text": [
      "113.04\n"
     ]
    }
   ],
   "source": [
    "def area (r) :\n",
    "    area = 3.14 * r ** 2\n",
    "    return area\n",
    "\n",
    "print(area(6))"
   ]
  },
  {
   "cell_type": "markdown",
   "metadata": {},
   "source": [
    "# Ejercicio 6\n",
    "\n",
    "Crea una función en Python que indique si un año es o no bisiesto. Devolverá `True` cuando\n",
    "lo es y `False` en caso contrario. Crea un programa principal que solicite el año al usuario y\n",
    "haga uso de la función."
   ]
  },
  {
   "cell_type": "markdown",
   "metadata": {},
   "source": [
    "# Ejercicio 7\n",
    "\n",
    "Utiliza la función anterior para crear un script que pida al usuario mediante un formulario un\n",
    "año mínimo y uno máximo y devuelva los años bisiestos que se encuentren entre ambos.\n",
    "\n",
    "**AVANZADO**: Crea con esto otra función, que haga uso de la del Ejercicio 2, a la que se le pasen los años de inicio y fin. En el caso de que no se le pase ningún año de fin tomará 2023 como valor por defecto.\n"
   ]
  },
  {
   "cell_type": "markdown",
   "metadata": {},
   "source": [
    "# Ejercicio 8\n",
    "\n",
    "Crea una función en Python que determine si un número es, o no, primo. La función\n",
    "devolverá `True` cuando el número sea primo y `False`, en caso contrario.\n"
   ]
  },
  {
   "cell_type": "markdown",
   "metadata": {},
   "source": [
    "# Ejercicio 9\n",
    "\n",
    "Utiliza la función anterior para crear un script que pida al usuario mediante un formulario un\n",
    "número y devuelva los números primos menores que ese número."
   ]
  },
  {
   "cell_type": "markdown",
   "metadata": {},
   "source": [
    "# Ejercicio 10\n",
    "\n",
    "Crea una función en Python que reciba un número y genere una pirámide como la siguiente\n",
    "(esta sería la generada cuando se recibe el número 5):\n",
    "```python\n",
    "    1\n",
    "   212\n",
    "  32123\n",
    " 4321234\n",
    "543212345\n",
    "```\n",
    "Paso 1\n",
    "```python\n",
    "1\n",
    "21\n",
    "321\n",
    "4321\n",
    "54321\n",
    "```\n",
    "Paso 2\n",
    "```python\n",
    "    1\n",
    "   21\n",
    "  321\n",
    " 4321\n",
    "54321\n",
    "```\n",
    "Paso 3\n",
    "```python\n",
    "    1\n",
    "   212\n",
    "  32123\n",
    " 4321234\n",
    "543212345\n",
    "```"
   ]
  }
 ],
 "metadata": {
  "kernelspec": {
   "display_name": "Python 3",
   "language": "python",
   "name": "python3"
  },
  "language_info": {
   "codemirror_mode": {
    "name": "ipython",
    "version": 3
   },
   "file_extension": ".py",
   "mimetype": "text/x-python",
   "name": "python",
   "nbconvert_exporter": "python",
   "pygments_lexer": "ipython3",
   "version": "3.12.6"
  },
  "orig_nbformat": 4
 },
 "nbformat": 4,
 "nbformat_minor": 2
}
